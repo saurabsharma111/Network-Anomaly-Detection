{
 "cells": [
  {
   "cell_type": "code",
   "execution_count": 24,
   "id": "1826f1d1-231f-40e7-9eeb-fe30d42fcf16",
   "metadata": {},
   "outputs": [],
   "source": [
    "import pandas as pd\n",
    "from sklearn.model_selection import train_test_split\n",
    "from sklearn.ensemble import RandomForestClassifier\n",
    "from sklearn.metrics import accuracy_score\n",
    "from sklearn.ensemble import RandomForestRegressor\n"
   ]
  },
  {
   "cell_type": "code",
   "execution_count": 25,
   "id": "fb705f31-2ba8-44d0-8869-0caa3c5a9121",
   "metadata": {},
   "outputs": [],
   "source": [
    "dataset=pd.read_csv('C:\\\\Users\\\\soura\\\\OneDrive\\\\Desktop\\\\CSV Files\\\\Training and Testing Sets\\\\UNSW_NB15_training-set.csv')"
   ]
  },
  {
   "cell_type": "code",
   "execution_count": 26,
   "id": "a7ed1d4e-a159-47b8-884d-9c2f96574d17",
   "metadata": {},
   "outputs": [],
   "source": [
    "Xd = dataset.copy()"
   ]
  },
  {
   "cell_type": "code",
   "execution_count": 27,
   "id": "a7740ed4-1e83-4f10-ae54-c2971b852474",
   "metadata": {},
   "outputs": [],
   "source": [
    "from sklearn.preprocessing import LabelEncoder\n",
    "le = LabelEncoder()\n",
    "Xd['attack_cat_numeric'] = le.fit_transform(Xd['attack_cat'])"
   ]
  },
  {
   "cell_type": "code",
   "execution_count": 28,
   "id": "c6a55f3c-b04b-4fcc-b99b-d48141c250d7",
   "metadata": {},
   "outputs": [],
   "source": [
    "from sklearn.preprocessing import LabelEncoder\n",
    "le = LabelEncoder()\n",
    "Xd['proto_en'] = le.fit_transform(Xd['proto'])"
   ]
  },
  {
   "cell_type": "code",
   "execution_count": 29,
   "id": "783d92df-7eee-4dd0-bfcc-716487f69a4a",
   "metadata": {},
   "outputs": [],
   "source": [
    "from sklearn.preprocessing import LabelEncoder\n",
    "le = LabelEncoder()\n",
    "Xd['service_en'] = le.fit_transform(Xd['service'])"
   ]
  },
  {
   "cell_type": "code",
   "execution_count": 30,
   "id": "b6483f6c-4c41-48b5-9955-ff7b0ba6cb84",
   "metadata": {},
   "outputs": [],
   "source": [
    "from sklearn.preprocessing import LabelEncoder\n",
    "le = LabelEncoder()\n",
    "Xd['state_en'] = le.fit_transform(Xd['state'])"
   ]
  },
  {
   "cell_type": "code",
   "execution_count": 31,
   "id": "12864f12-c4e6-41fb-a974-ccea85f72fcb",
   "metadata": {},
   "outputs": [],
   "source": [
    "# Example string column names\n",
    "drop_columns = ['proto','service','state','attack_cat']\n",
    "#[,\n",
    "# Step 3: Remove  columns\n",
    "Xd = Xd.drop(columns=drop_columns)"
   ]
  },
  {
   "cell_type": "code",
   "execution_count": 32,
   "id": "5e51e4a2-75b8-48ec-9d56-59143b6a9436",
   "metadata": {},
   "outputs": [
    {
     "data": {
      "text/html": [
       "<div>\n",
       "<style scoped>\n",
       "    .dataframe tbody tr th:only-of-type {\n",
       "        vertical-align: middle;\n",
       "    }\n",
       "\n",
       "    .dataframe tbody tr th {\n",
       "        vertical-align: top;\n",
       "    }\n",
       "\n",
       "    .dataframe thead th {\n",
       "        text-align: right;\n",
       "    }\n",
       "</style>\n",
       "<table border=\"1\" class=\"dataframe\">\n",
       "  <thead>\n",
       "    <tr style=\"text-align: right;\">\n",
       "      <th></th>\n",
       "      <th>id</th>\n",
       "      <th>dur</th>\n",
       "      <th>spkts</th>\n",
       "      <th>dpkts</th>\n",
       "      <th>sbytes</th>\n",
       "      <th>dbytes</th>\n",
       "      <th>rate</th>\n",
       "      <th>sttl</th>\n",
       "      <th>dttl</th>\n",
       "      <th>sload</th>\n",
       "      <th>...</th>\n",
       "      <th>ct_ftp_cmd</th>\n",
       "      <th>ct_flw_http_mthd</th>\n",
       "      <th>ct_src_ltm</th>\n",
       "      <th>ct_srv_dst</th>\n",
       "      <th>is_sm_ips_ports</th>\n",
       "      <th>label</th>\n",
       "      <th>attack_cat_numeric</th>\n",
       "      <th>proto_en</th>\n",
       "      <th>service_en</th>\n",
       "      <th>state_en</th>\n",
       "    </tr>\n",
       "  </thead>\n",
       "  <tbody>\n",
       "    <tr>\n",
       "      <th>0</th>\n",
       "      <td>1</td>\n",
       "      <td>0.121478</td>\n",
       "      <td>6</td>\n",
       "      <td>4</td>\n",
       "      <td>258</td>\n",
       "      <td>172</td>\n",
       "      <td>74.087490</td>\n",
       "      <td>252</td>\n",
       "      <td>254</td>\n",
       "      <td>14158.942380</td>\n",
       "      <td>...</td>\n",
       "      <td>0</td>\n",
       "      <td>0</td>\n",
       "      <td>1</td>\n",
       "      <td>1</td>\n",
       "      <td>0</td>\n",
       "      <td>0</td>\n",
       "      <td>6</td>\n",
       "      <td>113</td>\n",
       "      <td>0</td>\n",
       "      <td>2</td>\n",
       "    </tr>\n",
       "    <tr>\n",
       "      <th>1</th>\n",
       "      <td>2</td>\n",
       "      <td>0.649902</td>\n",
       "      <td>14</td>\n",
       "      <td>38</td>\n",
       "      <td>734</td>\n",
       "      <td>42014</td>\n",
       "      <td>78.473372</td>\n",
       "      <td>62</td>\n",
       "      <td>252</td>\n",
       "      <td>8395.112305</td>\n",
       "      <td>...</td>\n",
       "      <td>0</td>\n",
       "      <td>0</td>\n",
       "      <td>1</td>\n",
       "      <td>6</td>\n",
       "      <td>0</td>\n",
       "      <td>0</td>\n",
       "      <td>6</td>\n",
       "      <td>113</td>\n",
       "      <td>0</td>\n",
       "      <td>2</td>\n",
       "    </tr>\n",
       "    <tr>\n",
       "      <th>2</th>\n",
       "      <td>3</td>\n",
       "      <td>1.623129</td>\n",
       "      <td>8</td>\n",
       "      <td>16</td>\n",
       "      <td>364</td>\n",
       "      <td>13186</td>\n",
       "      <td>14.170161</td>\n",
       "      <td>62</td>\n",
       "      <td>252</td>\n",
       "      <td>1572.271851</td>\n",
       "      <td>...</td>\n",
       "      <td>0</td>\n",
       "      <td>0</td>\n",
       "      <td>2</td>\n",
       "      <td>6</td>\n",
       "      <td>0</td>\n",
       "      <td>0</td>\n",
       "      <td>6</td>\n",
       "      <td>113</td>\n",
       "      <td>0</td>\n",
       "      <td>2</td>\n",
       "    </tr>\n",
       "    <tr>\n",
       "      <th>3</th>\n",
       "      <td>4</td>\n",
       "      <td>1.681642</td>\n",
       "      <td>12</td>\n",
       "      <td>12</td>\n",
       "      <td>628</td>\n",
       "      <td>770</td>\n",
       "      <td>13.677108</td>\n",
       "      <td>62</td>\n",
       "      <td>252</td>\n",
       "      <td>2740.178955</td>\n",
       "      <td>...</td>\n",
       "      <td>1</td>\n",
       "      <td>0</td>\n",
       "      <td>2</td>\n",
       "      <td>1</td>\n",
       "      <td>0</td>\n",
       "      <td>0</td>\n",
       "      <td>6</td>\n",
       "      <td>113</td>\n",
       "      <td>3</td>\n",
       "      <td>2</td>\n",
       "    </tr>\n",
       "    <tr>\n",
       "      <th>4</th>\n",
       "      <td>5</td>\n",
       "      <td>0.449454</td>\n",
       "      <td>10</td>\n",
       "      <td>6</td>\n",
       "      <td>534</td>\n",
       "      <td>268</td>\n",
       "      <td>33.373826</td>\n",
       "      <td>254</td>\n",
       "      <td>252</td>\n",
       "      <td>8561.499023</td>\n",
       "      <td>...</td>\n",
       "      <td>0</td>\n",
       "      <td>0</td>\n",
       "      <td>2</td>\n",
       "      <td>39</td>\n",
       "      <td>0</td>\n",
       "      <td>0</td>\n",
       "      <td>6</td>\n",
       "      <td>113</td>\n",
       "      <td>0</td>\n",
       "      <td>2</td>\n",
       "    </tr>\n",
       "  </tbody>\n",
       "</table>\n",
       "<p>5 rows × 45 columns</p>\n",
       "</div>"
      ],
      "text/plain": [
       "   id       dur  spkts  dpkts  sbytes  dbytes       rate  sttl  dttl  \\\n",
       "0   1  0.121478      6      4     258     172  74.087490   252   254   \n",
       "1   2  0.649902     14     38     734   42014  78.473372    62   252   \n",
       "2   3  1.623129      8     16     364   13186  14.170161    62   252   \n",
       "3   4  1.681642     12     12     628     770  13.677108    62   252   \n",
       "4   5  0.449454     10      6     534     268  33.373826   254   252   \n",
       "\n",
       "          sload  ...  ct_ftp_cmd  ct_flw_http_mthd  ct_src_ltm  ct_srv_dst  \\\n",
       "0  14158.942380  ...           0                 0           1           1   \n",
       "1   8395.112305  ...           0                 0           1           6   \n",
       "2   1572.271851  ...           0                 0           2           6   \n",
       "3   2740.178955  ...           1                 0           2           1   \n",
       "4   8561.499023  ...           0                 0           2          39   \n",
       "\n",
       "   is_sm_ips_ports  label  attack_cat_numeric  proto_en  service_en  state_en  \n",
       "0                0      0                   6       113           0         2  \n",
       "1                0      0                   6       113           0         2  \n",
       "2                0      0                   6       113           0         2  \n",
       "3                0      0                   6       113           3         2  \n",
       "4                0      0                   6       113           0         2  \n",
       "\n",
       "[5 rows x 45 columns]"
      ]
     },
     "execution_count": 32,
     "metadata": {},
     "output_type": "execute_result"
    }
   ],
   "source": [
    "Xd.head()"
   ]
  },
  {
   "cell_type": "code",
   "execution_count": 33,
   "id": "6e12591e-4c32-44df-8de4-4be1e5e3eb26",
   "metadata": {},
   "outputs": [],
   "source": [
    "#numeric_columns = Xd.select_dtypes(include=['number']).columns\n",
    "#Xd_numeric = Xd[numeric_columns]\n",
    "#corr = Xd_numeric.corr()\n",
    "#corr_label = corr['label']"
   ]
  },
  {
   "cell_type": "code",
   "execution_count": 34,
   "id": "4be277c4-a26b-46e2-9ecc-100e854d5cb5",
   "metadata": {
    "scrolled": true
   },
   "outputs": [
    {
     "data": {
      "text/plain": [
       "id                    0.727173\n",
       "dur                   0.036175\n",
       "spkts                -0.052178\n",
       "dpkts                -0.118591\n",
       "sbytes                0.018576\n",
       "dbytes               -0.076871\n",
       "rate                  0.337979\n",
       "sttl                  0.692741\n",
       "dttl                  0.095049\n",
       "sload                 0.182870\n",
       "dload                -0.393739\n",
       "sloss                -0.000640\n",
       "dloss                -0.094685\n",
       "sinpkt               -0.176110\n",
       "dinpkt               -0.022887\n",
       "sjit                 -0.007069\n",
       "djit                 -0.060870\n",
       "swin                 -0.333633\n",
       "stcpb                -0.255006\n",
       "dtcpb                -0.250340\n",
       "dwin                 -0.319626\n",
       "tcprtt                0.081584\n",
       "synack                0.058299\n",
       "ackdat                0.097364\n",
       "smean                -0.010798\n",
       "dmean                -0.341806\n",
       "trans_depth           0.010801\n",
       "response_body_len    -0.021361\n",
       "ct_srv_src            0.229044\n",
       "ct_state_ttl          0.577704\n",
       "ct_dst_ltm            0.229887\n",
       "ct_src_dport_ltm      0.305579\n",
       "ct_dst_sport_ltm      0.357213\n",
       "ct_dst_src_ltm        0.303855\n",
       "is_ftp_login         -0.011055\n",
       "ct_ftp_cmd           -0.011055\n",
       "ct_flw_http_mthd      0.015800\n",
       "ct_src_ltm            0.238225\n",
       "ct_srv_dst            0.228046\n",
       "is_sm_ips_ports      -0.184679\n",
       "label                 1.000000\n",
       "attack_cat_numeric   -0.580908\n",
       "proto_en              0.020267\n",
       "service_en            0.035052\n",
       "state_en              0.497685\n",
       "Name: label, dtype: float64"
      ]
     },
     "execution_count": 34,
     "metadata": {},
     "output_type": "execute_result"
    }
   ],
   "source": [
    "corr = Xd.corr()\n",
    "corr_label = corr['label']\n",
    "corr_label"
   ]
  },
  {
   "cell_type": "code",
   "execution_count": 35,
   "id": "ad8fa461-d9d7-4ad7-a2e4-6e3fb2d22277",
   "metadata": {},
   "outputs": [],
   "source": [
    "# Calculate the correlation matrix\n",
    "#correlation_matrix = Xd.corr()\n",
    "\n",
    "# Visualize the correlation matrix if needed\n",
    "#import seaborn as sns\n",
    "#import matplotlib.pyplot as plt\n",
    "#plt.figure(figsize=(10, 8))\n",
    "#sns.heatmap(correlation_matrix, annot=True, cmap='coolwarm')\n",
    "#plt.title('Correlation Matrix')\n",
    "#plt.show()\n",
    "\n",
    "# Decide on a threshold for correlation\n",
    "#correlation_threshold = 0.7\n",
    "\n",
    "# Get the highly correlated features\n",
    "#highly_correlated = set()\n",
    "#for i in range(len(correlation_matrix.columns)):\n",
    "#    for j in range(i):\n",
    "#        if abs(correlation_matrix.iloc[i, j]) > correlation_threshold:\n",
    "#            colname = correlation_matrix.columns[i]\n",
    " #           highly_correlated.add(colname)\n",
    "\n",
    "# Remove highly correlated features from Xd\n",
    "#X = Xd.drop(columns=highly_correlated)\n",
    "\n",
    "# Split the dataset into training and testing sets\n",
    "#X_train, X_test, y_train, y_test = train_test_split(X, y, test_size=0.2, random_state=42)\n"
   ]
  },
  {
   "cell_type": "code",
   "execution_count": 36,
   "id": "e4395fec-2c8a-45a6-9ff1-1163d5f5b8ed",
   "metadata": {},
   "outputs": [
    {
     "name": "stdout",
     "output_type": "stream",
     "text": [
      "Index(['id', 'dur', 'spkts', 'dpkts', 'sbytes', 'dbytes', 'rate', 'sttl',\n",
      "       'dttl', 'sload', 'dload', 'sloss', 'dloss', 'sinpkt', 'dinpkt', 'sjit',\n",
      "       'djit', 'swin', 'stcpb', 'dtcpb', 'dwin', 'tcprtt', 'synack', 'ackdat',\n",
      "       'smean', 'dmean', 'trans_depth', 'response_body_len', 'ct_srv_src',\n",
      "       'ct_state_ttl', 'ct_dst_ltm', 'ct_src_dport_ltm', 'ct_dst_sport_ltm',\n",
      "       'ct_dst_src_ltm', 'is_ftp_login', 'ct_ftp_cmd', 'ct_flw_http_mthd',\n",
      "       'ct_src_ltm', 'ct_srv_dst', 'is_sm_ips_ports', 'label',\n",
      "       'attack_cat_numeric', 'proto_en', 'service_en', 'state_en'],\n",
      "      dtype='object')\n"
     ]
    }
   ],
   "source": [
    "print(Xd.columns)"
   ]
  },
  {
   "cell_type": "code",
   "execution_count": 37,
   "id": "f7dac762-b7ff-4581-b604-0359448081f8",
   "metadata": {},
   "outputs": [],
   "source": [
    "#dataset.head()"
   ]
  },
  {
   "cell_type": "code",
   "execution_count": 38,
   "id": "d9cca77e-4f4a-487a-ac70-71de43c87104",
   "metadata": {},
   "outputs": [],
   "source": [
    "#print(dataset.columns)"
   ]
  },
  {
   "cell_type": "code",
   "execution_count": 39,
   "id": "2fcddc18-98a9-49b2-8444-08194952182b",
   "metadata": {},
   "outputs": [],
   "source": [
    "# Assuming df is your DataFrame\n",
    "#X = Xd.iloc[:,1:2].values#features\n",
    "#y = df.iloc[:,2].values# Target variable\n"
   ]
  },
  {
   "cell_type": "code",
   "execution_count": 40,
   "id": "dc0cd37d-774a-4969-9a12-d5128effb140",
   "metadata": {},
   "outputs": [],
   "source": [
    "#from sklearn.pipeline import make_pipeline\n",
    "#from sklearn.impute import SimpleImputer\n",
    "#from sklearn.ensemble import RandomForestRegressor\n",
    "\n",
    "# Create a pipeline with imputation and the RandomForestRegressor\n",
    "#pipeline = make_pipeline(SimpleImputer(strategy='mean'), RandomForestRegressor(n_estimators=10, random_state=0, oob_score=True))\n",
    "\n",
    "# Fit the pipeline with X and y data\n",
    "#pipeline.fit(X, y)\n"
   ]
  },
  {
   "cell_type": "code",
   "execution_count": 41,
   "id": "d9834048-62f6-4bca-9951-e783796c912e",
   "metadata": {},
   "outputs": [],
   "source": [
    "#regressor = RandomForestRegressor(n_estimators=10, random_state=0, oob_score=True)\n",
    " \n",
    "# Fit the regressor with x and y data\n",
    "#regressor.fit(x, y)"
   ]
  },
  {
   "cell_type": "code",
   "execution_count": 42,
   "id": "f0581fb9-7661-4ceb-949e-282f718a7124",
   "metadata": {},
   "outputs": [],
   "source": [
    "# Step 4: Split the dataset into training and testing sets\n",
    "X = Xd.drop(columns=['label'])\n",
    "y = Xd['label'] # Target variable\n",
    "X_train, X_test, y_train, y_test = train_test_split(X, y, test_size=0.2, random_state=42)"
   ]
  },
  {
   "cell_type": "code",
   "execution_count": 43,
   "id": "d2f1ebc7-7ca5-4e2b-b67a-227417eae96f",
   "metadata": {
    "scrolled": true
   },
   "outputs": [
    {
     "data": {
      "text/html": [
       "<style>#sk-container-id-2 {color: black;background-color: white;}#sk-container-id-2 pre{padding: 0;}#sk-container-id-2 div.sk-toggleable {background-color: white;}#sk-container-id-2 label.sk-toggleable__label {cursor: pointer;display: block;width: 100%;margin-bottom: 0;padding: 0.3em;box-sizing: border-box;text-align: center;}#sk-container-id-2 label.sk-toggleable__label-arrow:before {content: \"▸\";float: left;margin-right: 0.25em;color: #696969;}#sk-container-id-2 label.sk-toggleable__label-arrow:hover:before {color: black;}#sk-container-id-2 div.sk-estimator:hover label.sk-toggleable__label-arrow:before {color: black;}#sk-container-id-2 div.sk-toggleable__content {max-height: 0;max-width: 0;overflow: hidden;text-align: left;background-color: #f0f8ff;}#sk-container-id-2 div.sk-toggleable__content pre {margin: 0.2em;color: black;border-radius: 0.25em;background-color: #f0f8ff;}#sk-container-id-2 input.sk-toggleable__control:checked~div.sk-toggleable__content {max-height: 200px;max-width: 100%;overflow: auto;}#sk-container-id-2 input.sk-toggleable__control:checked~label.sk-toggleable__label-arrow:before {content: \"▾\";}#sk-container-id-2 div.sk-estimator input.sk-toggleable__control:checked~label.sk-toggleable__label {background-color: #d4ebff;}#sk-container-id-2 div.sk-label input.sk-toggleable__control:checked~label.sk-toggleable__label {background-color: #d4ebff;}#sk-container-id-2 input.sk-hidden--visually {border: 0;clip: rect(1px 1px 1px 1px);clip: rect(1px, 1px, 1px, 1px);height: 1px;margin: -1px;overflow: hidden;padding: 0;position: absolute;width: 1px;}#sk-container-id-2 div.sk-estimator {font-family: monospace;background-color: #f0f8ff;border: 1px dotted black;border-radius: 0.25em;box-sizing: border-box;margin-bottom: 0.5em;}#sk-container-id-2 div.sk-estimator:hover {background-color: #d4ebff;}#sk-container-id-2 div.sk-parallel-item::after {content: \"\";width: 100%;border-bottom: 1px solid gray;flex-grow: 1;}#sk-container-id-2 div.sk-label:hover label.sk-toggleable__label {background-color: #d4ebff;}#sk-container-id-2 div.sk-serial::before {content: \"\";position: absolute;border-left: 1px solid gray;box-sizing: border-box;top: 0;bottom: 0;left: 50%;z-index: 0;}#sk-container-id-2 div.sk-serial {display: flex;flex-direction: column;align-items: center;background-color: white;padding-right: 0.2em;padding-left: 0.2em;position: relative;}#sk-container-id-2 div.sk-item {position: relative;z-index: 1;}#sk-container-id-2 div.sk-parallel {display: flex;align-items: stretch;justify-content: center;background-color: white;position: relative;}#sk-container-id-2 div.sk-item::before, #sk-container-id-2 div.sk-parallel-item::before {content: \"\";position: absolute;border-left: 1px solid gray;box-sizing: border-box;top: 0;bottom: 0;left: 50%;z-index: -1;}#sk-container-id-2 div.sk-parallel-item {display: flex;flex-direction: column;z-index: 1;position: relative;background-color: white;}#sk-container-id-2 div.sk-parallel-item:first-child::after {align-self: flex-end;width: 50%;}#sk-container-id-2 div.sk-parallel-item:last-child::after {align-self: flex-start;width: 50%;}#sk-container-id-2 div.sk-parallel-item:only-child::after {width: 0;}#sk-container-id-2 div.sk-dashed-wrapped {border: 1px dashed gray;margin: 0 0.4em 0.5em 0.4em;box-sizing: border-box;padding-bottom: 0.4em;background-color: white;}#sk-container-id-2 div.sk-label label {font-family: monospace;font-weight: bold;display: inline-block;line-height: 1.2em;}#sk-container-id-2 div.sk-label-container {text-align: center;}#sk-container-id-2 div.sk-container {/* jupyter's `normalize.less` sets `[hidden] { display: none; }` but bootstrap.min.css set `[hidden] { display: none !important; }` so we also need the `!important` here to be able to override the default hidden behavior on the sphinx rendered scikit-learn.org. See: https://github.com/scikit-learn/scikit-learn/issues/21755 */display: inline-block !important;position: relative;}#sk-container-id-2 div.sk-text-repr-fallback {display: none;}</style><div id=\"sk-container-id-2\" class=\"sk-top-container\"><div class=\"sk-text-repr-fallback\"><pre>RandomForestClassifier(n_estimators=1000, random_state=42)</pre><b>In a Jupyter environment, please rerun this cell to show the HTML representation or trust the notebook. <br />On GitHub, the HTML representation is unable to render, please try loading this page with nbviewer.org.</b></div><div class=\"sk-container\" hidden><div class=\"sk-item\"><div class=\"sk-estimator sk-toggleable\"><input class=\"sk-toggleable__control sk-hidden--visually\" id=\"sk-estimator-id-2\" type=\"checkbox\" checked><label for=\"sk-estimator-id-2\" class=\"sk-toggleable__label sk-toggleable__label-arrow\">RandomForestClassifier</label><div class=\"sk-toggleable__content\"><pre>RandomForestClassifier(n_estimators=1000, random_state=42)</pre></div></div></div></div></div>"
      ],
      "text/plain": [
       "RandomForestClassifier(n_estimators=1000, random_state=42)"
      ]
     },
     "execution_count": 43,
     "metadata": {},
     "output_type": "execute_result"
    }
   ],
   "source": [
    "# Step 5: Train the Random Forest model\n",
    "rf_model = RandomForestClassifier(n_estimators=1000, random_state=42)\n",
    "rf_model.fit(X_train, y_train)"
   ]
  },
  {
   "cell_type": "code",
   "execution_count": 44,
   "id": "46f5e6b3-facc-48b0-8720-126a20e68914",
   "metadata": {},
   "outputs": [
    {
     "name": "stdout",
     "output_type": "stream",
     "text": [
      "Accuracy: 1.0\n"
     ]
    }
   ],
   "source": [
    "# Step 6: Evaluate the model\n",
    "y_pred = rf_model.predict(X_test)\n",
    "accuracy = accuracy_score(y_test, y_pred)\n",
    "print(\"Accuracy:\", accuracy)"
   ]
  },
  {
   "cell_type": "code",
   "execution_count": null,
   "id": "bb19e7e5-184f-4137-a66c-9e1d4e89f7a8",
   "metadata": {},
   "outputs": [],
   "source": [
    "from sklearn.svm import OneClassSVM\n",
    "from sklearn.model_selection import train_test_split\n",
    "from sklearn.metrics import classification_report\n",
    "\n",
    "# Assuming X contains your dataset and y contains labels if available\n",
    "# Split data into train and test sets\n",
    "X_train, X_test, y_train, y_test = train_test_split(X, y, test_size=0.2, random_state=42)\n",
    "\n",
    "# Initialize OneClassSVM\n",
    "svm = OneClassSVM()\n",
    "\n",
    "# Fit the model on the training data\n",
    "svm.fit(X_train)\n",
    "\n",
    "# Predict on the test data\n",
    "y_pred = svm.predict(X_test)\n",
    "\n",
    "# If labels are available, evaluate the model\n",
    "if y_test is not None:\n",
    "    print(classification_report(y_test, y_pred))\n",
    "else:\n",
    "    # If labels are not available, inspect the predictions qualitatively\n",
    "    # For example, print the indices of the instances flagged as outliers\n",
    "    print(\"Indices of outlier instances:\", np.where(y_pred == -1)[0])\n"
   ]
  },
  {
   "cell_type": "code",
   "execution_count": null,
   "id": "dc8cb4be-62ae-4f2c-a2a8-b30a5a6663f0",
   "metadata": {},
   "outputs": [],
   "source": [
    "TP = FN = FP = TN = 0\n",
    "for j in range(len(y_test)):\n",
    "    if y_test['label'][j]== 0 and fraud_pred['prediction'][j] == 1:\n",
    "        TP = TP+1\n",
    "    elif y_test['label'][j]== 0 and fraud_pred['prediction'][j] == -1:\n",
    "        FN = FN+1\n",
    "    elif y_test['label'][j]== 1 and fraud_pred['prediction'][j] == 1:\n",
    "        FP = FP+1\n",
    "    else:\n",
    "        TN = TN +1\n",
    "print (TP,  FN,  FP,  TN)\n"
   ]
  },
  {
   "cell_type": "code",
   "execution_count": null,
   "id": "91d2675b-3c52-4ec4-b054-3462456f35d3",
   "metadata": {},
   "outputs": [],
   "source": [
    "accuracy = (TP+TN)/(TP+FN+FP+TN)\n",
    "print (accuracy)\n",
    "sensitivity = TP/(TP+FN)\n",
    "print (sensitivity)\n",
    "specificity = TN/(TN+FP)\n",
    "print (specificity)"
   ]
  }
 ],
 "metadata": {
  "kernelspec": {
   "display_name": "Python 3 (ipykernel)",
   "language": "python",
   "name": "python3"
  },
  "language_info": {
   "codemirror_mode": {
    "name": "ipython",
    "version": 3
   },
   "file_extension": ".py",
   "mimetype": "text/x-python",
   "name": "python",
   "nbconvert_exporter": "python",
   "pygments_lexer": "ipython3",
   "version": "3.11.7"
  }
 },
 "nbformat": 4,
 "nbformat_minor": 5
}
